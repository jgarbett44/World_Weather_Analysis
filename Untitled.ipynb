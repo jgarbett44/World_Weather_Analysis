{
 "cells": [
  {
   "cell_type": "code",
   "execution_count": 1,
   "id": "1188b127",
   "metadata": {},
   "outputs": [],
   "source": [
    "# Import the dependencies.\n",
    "import pandas as pd\n",
    "import matplotlib.pyplot as plt\n",
    "import numpy as np"
   ]
  },
  {
   "cell_type": "code",
   "execution_count": 2,
   "id": "43b56d2c",
   "metadata": {},
   "outputs": [
    {
     "data": {
      "text/plain": [
       "<zip at 0x7fcf7e413230>"
      ]
     },
     "execution_count": 2,
     "metadata": {},
     "output_type": "execute_result"
    }
   ],
   "source": [
    "# Create a set of random latitude and longitude combinations.\n",
    "lats = np.random.uniform(low=-90.000, high=90.000, size=2000)\n",
    "lngs = np.random.uniform(low=-180.000, high=180.000, size=2000)\n",
    "lat_lngs = zip(lats, lngs)\n",
    "lat_lngs"
   ]
  },
  {
   "cell_type": "code",
   "execution_count": 3,
   "id": "31168a41",
   "metadata": {},
   "outputs": [],
   "source": [
    "# Add the latitudes and longitudes to a list.\n",
    "coordinates = list(lat_lngs)"
   ]
  },
  {
   "cell_type": "code",
   "execution_count": 4,
   "id": "1250fa5e",
   "metadata": {},
   "outputs": [],
   "source": [
    "from citipy import citipy"
   ]
  },
  {
   "cell_type": "code",
   "execution_count": 5,
   "id": "4bd8d019",
   "metadata": {},
   "outputs": [
    {
     "data": {
      "text/plain": [
       "805"
      ]
     },
     "execution_count": 5,
     "metadata": {},
     "output_type": "execute_result"
    }
   ],
   "source": [
    "# Create a list for holding the cities.\n",
    "cities = []\n",
    "# Identify the nearest city for each latitude and longitude combination.\n",
    "for coordinate in coordinates:\n",
    "    city = citipy.nearest_city(coordinate[0], coordinate[1]).city_name\n",
    "\n",
    "    # If the city is unique, then we will add it to the cities list.\n",
    "    if city not in cities:\n",
    "        cities.append(city)\n",
    "# Print the city count to confirm sufficient count.\n",
    "len(cities)"
   ]
  },
  {
   "cell_type": "code",
   "execution_count": 6,
   "id": "578b326a",
   "metadata": {},
   "outputs": [
    {
     "data": {
      "text/plain": [
       "'2.26.0'"
      ]
     },
     "execution_count": 6,
     "metadata": {},
     "output_type": "execute_result"
    }
   ],
   "source": [
    "import requests\n",
    "requests.__version__"
   ]
  },
  {
   "cell_type": "code",
   "execution_count": 7,
   "id": "633c3d27",
   "metadata": {},
   "outputs": [],
   "source": [
    "# Import the API key.\n",
    "from config import weather_api_key"
   ]
  },
  {
   "cell_type": "code",
   "execution_count": 8,
   "id": "504277f7",
   "metadata": {},
   "outputs": [],
   "source": [
    "# Starting URL for Weather Map API Call.\n",
    "url = \"http://api.openweathermap.org/data/2.5/weather?units=Imperial&APPID=\" + weather_api_key\n",
    "\n"
   ]
  },
  {
   "cell_type": "code",
   "execution_count": 9,
   "id": "fd30e95c",
   "metadata": {},
   "outputs": [],
   "source": [
    "# Import the time library and the datetime module from the datetime library \n",
    "import time\n",
    "from datetime import datetime"
   ]
  },
  {
   "cell_type": "code",
   "execution_count": 18,
   "id": "861628be",
   "metadata": {},
   "outputs": [
    {
     "name": "stdout",
     "output_type": "stream",
     "text": [
      "Beginning Data Retrieval     \n",
      "-----------------------------\n",
      "Processing Record 1 of Set 1 | illoqqortoormiut\n",
      "City not found. Skipping... 'coord'\n",
      "Processing Record 2 of Set 1 | nikolskoye\n",
      "Processing Record 3 of Set 1 | belushya guba\n",
      "City not found. Skipping... 'coord'\n",
      "Processing Record 4 of Set 1 | takoradi\n",
      "Processing Record 5 of Set 1 | hilo\n",
      "Processing Record 6 of Set 1 | uspenskaya\n",
      "Processing Record 7 of Set 1 | tuktoyaktuk\n",
      "Processing Record 8 of Set 1 | mackay\n",
      "Processing Record 9 of Set 1 | mataura\n",
      "Processing Record 10 of Set 1 | mount gambier\n",
      "-----------------------------\n",
      "Data Retrieval Complete      \n",
      "-----------------------------\n"
     ]
    }
   ],
   "source": [
    "# Create an empty list to hold the weather data.\n",
    "city_data = []\n",
    "# Print the beginning of the logging.\n",
    "print(\"Beginning Data Retrieval     \")\n",
    "print(\"-----------------------------\")\n",
    "\n",
    "# Create counters.\n",
    "record_count = 1\n",
    "set_count = 1\n",
    "\n",
    "# Loop through all the cities in the list.\n",
    "for i, city in enumerate(cities[0:10]):\n",
    "\n",
    "    # Group cities in sets of 50 for logging purposes.\n",
    "    if (i % 50 == 0 and i >= 50):\n",
    "        set_count += 1\n",
    "        record_count = 1\n",
    "        time.sleep(60)\n",
    "\n",
    "    # Create endpoint URL with each city.\n",
    "    city_url = url + \"&q=\" + city.replace(\" \",\"+\")\n",
    "\n",
    "    # Log the URL, record, and set numbers and the city.\n",
    "    print(f\"Processing Record {record_count} of Set {set_count} | {city}\")\n",
    "    # Add 1 to the record count.\n",
    "    record_count += 1\n",
    "    \n",
    "# Run an API request for each of the cities.\n",
    "    try:\n",
    "        # Parse the JSON and retrieve data.\n",
    "        city_weather = requests.get(city_url).json()\n",
    "        # Parse out the needed data.\n",
    "        city_lat = city_weather[\"coord\"][\"lat\"]\n",
    "        city_lng = city_weather[\"coord\"][\"lon\"]\n",
    "        city_max_temp = city_weather[\"main\"][\"temp_max\"]\n",
    "        city_current_description = city_weather[\"weather\"][0][\"description\"]\n",
    "        city_humidity = city_weather[\"main\"][\"humidity\"]\n",
    "        city_clouds = city_weather[\"clouds\"][\"all\"]\n",
    "        city_wind = city_weather[\"wind\"][\"speed\"]\n",
    "        city_country = city_weather[\"sys\"][\"country\"]\n",
    "        # Convert the date to ISO standard.\n",
    "        city_date = datetime.utcfromtimestamp(city_weather[\"dt\"]).strftime('%Y-%m-%d %H:%M:%S')\n",
    "        # Append the city information into city_data list.\n",
    "        city_data.append({\"City\": city.title(),\n",
    "                          \"Lat\": city_lat,\n",
    "                          \"Lng\": city_lng,\n",
    "                          \"Max Temp\": city_max_temp,\n",
    "                          \"Current Description\": city_current_description,\n",
    "                          \"Humidity\": city_humidity,\n",
    "                          \"Cloudiness\": city_clouds,\n",
    "                          \"Wind Speed\": city_wind,\n",
    "                          \"Country\": city_country,\n",
    "                          \"Date\": city_date})\n",
    "\n",
    "# If an error is experienced, skip the city.\n",
    "    except KeyError as err:\n",
    "        print(\"City not found. Skipping...\", err)\n",
    "        \n",
    "    \n",
    "\n",
    "# Indicate that Data Loading is complete.\n",
    "print(\"-----------------------------\")\n",
    "print(\"Data Retrieval Complete      \")\n",
    "print(\"-----------------------------\")"
   ]
  },
  {
   "cell_type": "code",
   "execution_count": 16,
   "id": "4f7c200f",
   "metadata": {},
   "outputs": [
    {
     "data": {
      "text/plain": [
       "30.7861"
      ]
     },
     "execution_count": 16,
     "metadata": {},
     "output_type": "execute_result"
    }
   ],
   "source": [
    "city_lng\n"
   ]
  },
  {
   "cell_type": "code",
   "execution_count": 17,
   "id": "b14bdf09",
   "metadata": {},
   "outputs": [
    {
     "data": {
      "text/plain": [
       "40.87"
      ]
     },
     "execution_count": 17,
     "metadata": {},
     "output_type": "execute_result"
    }
   ],
   "source": [
    "city_max_temp"
   ]
  },
  {
   "cell_type": "code",
   "execution_count": 19,
   "id": "4da29915",
   "metadata": {},
   "outputs": [
    {
     "data": {
      "text/plain": [
       "'scattered clouds'"
      ]
     },
     "execution_count": 19,
     "metadata": {},
     "output_type": "execute_result"
    }
   ],
   "source": [
    "city_current_description"
   ]
  },
  {
   "cell_type": "code",
   "execution_count": 20,
   "id": "8afc80e1",
   "metadata": {},
   "outputs": [
    {
     "data": {
      "text/plain": [
       "[{'City': 'Nikolskoye',\n",
       "  'Lat': 59.7035,\n",
       "  'Lng': 30.7861,\n",
       "  'Max Temp': 40.87,\n",
       "  'Current Description': 'overcast clouds',\n",
       "  'Humidity': 83,\n",
       "  'Cloudiness': 100,\n",
       "  'Wind Speed': 9.44,\n",
       "  'Country': 'RU',\n",
       "  'Date': '2021-11-06 21:23:56'},\n",
       " {'City': 'Takoradi',\n",
       "  'Lat': 4.8845,\n",
       "  'Lng': -1.7554,\n",
       "  'Max Temp': 79.56,\n",
       "  'Current Description': 'scattered clouds',\n",
       "  'Humidity': 83,\n",
       "  'Cloudiness': 35,\n",
       "  'Wind Speed': 7.23,\n",
       "  'Country': 'GH',\n",
       "  'Date': '2021-11-06 21:26:40'},\n",
       " {'City': 'Hilo',\n",
       "  'Lat': 19.7297,\n",
       "  'Lng': -155.09,\n",
       "  'Max Temp': 81.25,\n",
       "  'Current Description': 'broken clouds',\n",
       "  'Humidity': 70,\n",
       "  'Cloudiness': 75,\n",
       "  'Wind Speed': 8.05,\n",
       "  'Country': 'US',\n",
       "  'Date': '2021-11-06 21:26:05'},\n",
       " {'City': 'Uspenskaya',\n",
       "  'Lat': 45.7645,\n",
       "  'Lng': 41.067,\n",
       "  'Max Temp': 49.71,\n",
       "  'Current Description': 'broken clouds',\n",
       "  'Humidity': 76,\n",
       "  'Cloudiness': 56,\n",
       "  'Wind Speed': 7.31,\n",
       "  'Country': 'RU',\n",
       "  'Date': '2021-11-06 21:19:25'},\n",
       " {'City': 'Tuktoyaktuk',\n",
       "  'Lat': 69.4541,\n",
       "  'Lng': -133.0374,\n",
       "  'Max Temp': 15.8,\n",
       "  'Current Description': 'overcast clouds',\n",
       "  'Humidity': 79,\n",
       "  'Cloudiness': 90,\n",
       "  'Wind Speed': 16.11,\n",
       "  'Country': 'CA',\n",
       "  'Date': '2021-11-06 21:19:26'},\n",
       " {'City': 'Mackay',\n",
       "  'Lat': -21.15,\n",
       "  'Lng': 149.2,\n",
       "  'Max Temp': 80.69,\n",
       "  'Current Description': 'broken clouds',\n",
       "  'Humidity': 67,\n",
       "  'Cloudiness': 76,\n",
       "  'Wind Speed': 10.78,\n",
       "  'Country': 'AU',\n",
       "  'Date': '2021-11-06 21:15:50'},\n",
       " {'City': 'Mataura',\n",
       "  'Lat': -46.1927,\n",
       "  'Lng': 168.8643,\n",
       "  'Max Temp': 62.82,\n",
       "  'Current Description': 'scattered clouds',\n",
       "  'Humidity': 59,\n",
       "  'Cloudiness': 49,\n",
       "  'Wind Speed': 0.54,\n",
       "  'Country': 'NZ',\n",
       "  'Date': '2021-11-06 21:26:41'},\n",
       " {'City': 'Mount Gambier',\n",
       "  'Lat': -37.8333,\n",
       "  'Lng': 140.7667,\n",
       "  'Max Temp': 51.78,\n",
       "  'Current Description': 'scattered clouds',\n",
       "  'Humidity': 62,\n",
       "  'Cloudiness': 40,\n",
       "  'Wind Speed': 4.9,\n",
       "  'Country': 'AU',\n",
       "  'Date': '2021-11-06 21:17:56'}]"
      ]
     },
     "execution_count": 20,
     "metadata": {},
     "output_type": "execute_result"
    }
   ],
   "source": [
    "city_data"
   ]
  },
  {
   "cell_type": "code",
   "execution_count": null,
   "id": "716be8cd",
   "metadata": {},
   "outputs": [],
   "source": []
  }
 ],
 "metadata": {
  "kernelspec": {
   "display_name": "PythonData",
   "language": "python",
   "name": "pythondata"
  },
  "language_info": {
   "codemirror_mode": {
    "name": "ipython",
    "version": 3
   },
   "file_extension": ".py",
   "mimetype": "text/x-python",
   "name": "python",
   "nbconvert_exporter": "python",
   "pygments_lexer": "ipython3",
   "version": "3.7.11"
  }
 },
 "nbformat": 4,
 "nbformat_minor": 5
}
